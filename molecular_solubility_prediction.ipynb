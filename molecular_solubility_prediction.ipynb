{
 "cells": [
  {
   "cell_type": "markdown",
   "id": "d8300577-3719-4580-a41b-84fdd85ee6bb",
   "metadata": {},
   "source": [
    "## Molecular Solubility Prediciton Model\n",
    "\n",
    "This is an application of linear regression to predict aqueous molecular solubility. This is a reproduction of the work conducted by John S. Delaney (\"ESOL:  Estimating Aqueous Solubility Directly from Molecular Structure\" in *J. Chem. Inf. Comput. Sci.*). The dataset used herein is supplementary information obtained from: https://pubs.acs.org/doi/pdf/10.1021/ci034243x\n",
    "\n",
    "Aqueous solubility is one of the most important physico-chemical properties in modern drug discovery. LogS is a unit of expressing solubility in itself, which is the 10-based logarithm of the solubility measured in mol/l. So you can calculate the solubility in three units: logS, mol/l, and mg/ml.\n",
    "\n"
   ]
  },
  {
   "cell_type": "markdown",
   "id": "94b94700-3b93-4a73-8544-031c8692c1bf",
   "metadata": {},
   "source": [
    "#### Install rdkit\n",
    "\n",
    "RDKit is a cheminformatics/machine learning library that provides easy manipulation of molecules."
   ]
  },
  {
   "cell_type": "code",
   "execution_count": null,
   "id": "e7dbc5ed-d1a8-4601-b119-20f68d749922",
   "metadata": {},
   "outputs": [
    {
     "name": "stdout",
     "output_type": "stream",
     "text": [
      "Requirement already satisfied: rdkit-pypi in /Library/Frameworks/Python.framework/Versions/3.10/lib/python3.10/site-packages (2022.3.1)\n",
      "Requirement already satisfied: Pillow in /Library/Frameworks/Python.framework/Versions/3.10/lib/python3.10/site-packages (from rdkit-pypi) (9.1.0)\n",
      "Requirement already satisfied: numpy>=1.19 in /Library/Frameworks/Python.framework/Versions/3.10/lib/python3.10/site-packages (from rdkit-pypi) (1.22.3)\n",
      "\u001b[33mWARNING: You are using pip version 22.0.3; however, version 22.0.4 is available.\n",
      "You should consider upgrading via the '/Library/Frameworks/Python.framework/Versions/3.10/bin/python3.10 -m pip install --upgrade pip' command.\u001b[0m\u001b[33m\n",
      "\u001b[0mNote: you may need to restart the kernel to use updated packages.\n"
     ]
    }
   ],
   "source": [
    "! pip install rdkit-pypi"
   ]
  },
  {
   "cell_type": "code",
   "execution_count": 7,
   "id": "b04ea55a-3220-4e04-ae49-42b8b12ee843",
   "metadata": {},
   "outputs": [
    {
     "name": "stdout",
     "output_type": "stream",
     "text": [
      "--2022-04-07 18:30:12--  https://pubs.acs.org/doi/suppl/10.1021/ci034243x/suppl_file/ci034243xsi20040112_053635.txt\n",
      "Resolving pubs.acs.org (pubs.acs.org)... 104.18.0.20, 104.18.1.20\n",
      "Connecting to pubs.acs.org (pubs.acs.org)|104.18.0.20|:443... connected.\n",
      "HTTP request sent, awaiting response... 302 Found\n",
      "Location: https://pubs.acs.org/doi/suppl/10.1021/ci034243x/suppl_file/ci034243xsi20040112_053635.txt?cookieSet=1 [following]\n",
      "--2022-04-07 18:30:12--  https://pubs.acs.org/doi/suppl/10.1021/ci034243x/suppl_file/ci034243xsi20040112_053635.txt?cookieSet=1\n",
      "Reusing existing connection to pubs.acs.org:443.\n",
      "HTTP request sent, awaiting response... 302 Found\n",
      "Location: https://pubs.acs.org/doi/suppl/10.1021/ci034243x/suppl_file/ci034243xsi20040112_053635.txt [following]\n",
      "--2022-04-07 18:30:12--  https://pubs.acs.org/doi/suppl/10.1021/ci034243x/suppl_file/ci034243xsi20040112_053635.txt\n",
      "Reusing existing connection to pubs.acs.org:443.\n",
      "HTTP request sent, awaiting response... 200 OK\n",
      "Length: 60034 (59K) [text/plain]\n",
      "Saving to: ‘ci034243xsi20040112_053635.txt’\n",
      "\n",
      "ci034243xsi20040112 100%[===================>]  58.63K  --.-KB/s    in 0.005s  \n",
      "\n",
      "2022-04-07 18:30:12 (11.6 MB/s) - ‘ci034243xsi20040112_053635.txt’ saved [60034/60034]\n",
      "\n"
     ]
    }
   ],
   "source": [
    "#download dataset\n",
    "! wget https://pubs.acs.org/doi/suppl/10.1021/ci034243x/suppl_file/ci034243xsi20040112_053635.txt"
   ]
  },
  {
   "cell_type": "markdown",
   "id": "e4b26d9e-578c-4c22-9571-ee578d6484ac",
   "metadata": {
    "tags": []
   },
   "source": [
    "#### Read Dataset"
   ]
  },
  {
   "cell_type": "code",
   "execution_count": 8,
   "id": "3d2fdaaf-4c0f-4e72-b82b-14e547fdebd0",
   "metadata": {},
   "outputs": [],
   "source": [
    "#read dataset into pandas dataframe\n",
    "import pandas as pd"
   ]
  },
  {
   "cell_type": "code",
   "execution_count": 9,
   "id": "05e1a007-cc8e-4908-a483-9a7b830e0066",
   "metadata": {},
   "outputs": [
    {
     "data": {
      "text/html": [
       "<div>\n",
       "<style scoped>\n",
       "    .dataframe tbody tr th:only-of-type {\n",
       "        vertical-align: middle;\n",
       "    }\n",
       "\n",
       "    .dataframe tbody tr th {\n",
       "        vertical-align: top;\n",
       "    }\n",
       "\n",
       "    .dataframe thead th {\n",
       "        text-align: right;\n",
       "    }\n",
       "</style>\n",
       "<table border=\"1\" class=\"dataframe\">\n",
       "  <thead>\n",
       "    <tr style=\"text-align: right;\">\n",
       "      <th></th>\n",
       "      <th>Compound ID</th>\n",
       "      <th>measured log(solubility:mol/L)</th>\n",
       "      <th>ESOL predicted log(solubility:mol/L)</th>\n",
       "      <th>SMILES</th>\n",
       "    </tr>\n",
       "  </thead>\n",
       "  <tbody>\n",
       "    <tr>\n",
       "      <th>0</th>\n",
       "      <td>1,1,1,2-Tetrachloroethane</td>\n",
       "      <td>-2.180</td>\n",
       "      <td>-2.794</td>\n",
       "      <td>ClCC(Cl)(Cl)Cl</td>\n",
       "    </tr>\n",
       "    <tr>\n",
       "      <th>1</th>\n",
       "      <td>1,1,1-Trichloroethane</td>\n",
       "      <td>-2.000</td>\n",
       "      <td>-2.232</td>\n",
       "      <td>CC(Cl)(Cl)Cl</td>\n",
       "    </tr>\n",
       "    <tr>\n",
       "      <th>2</th>\n",
       "      <td>1,1,2,2-Tetrachloroethane</td>\n",
       "      <td>-1.740</td>\n",
       "      <td>-2.549</td>\n",
       "      <td>ClC(Cl)C(Cl)Cl</td>\n",
       "    </tr>\n",
       "    <tr>\n",
       "      <th>3</th>\n",
       "      <td>1,1,2-Trichloroethane</td>\n",
       "      <td>-1.480</td>\n",
       "      <td>-1.961</td>\n",
       "      <td>ClCC(Cl)Cl</td>\n",
       "    </tr>\n",
       "    <tr>\n",
       "      <th>4</th>\n",
       "      <td>1,1,2-Trichlorotrifluoroethane</td>\n",
       "      <td>-3.040</td>\n",
       "      <td>-3.077</td>\n",
       "      <td>FC(F)(Cl)C(F)(Cl)Cl</td>\n",
       "    </tr>\n",
       "    <tr>\n",
       "      <th>...</th>\n",
       "      <td>...</td>\n",
       "      <td>...</td>\n",
       "      <td>...</td>\n",
       "      <td>...</td>\n",
       "    </tr>\n",
       "    <tr>\n",
       "      <th>1139</th>\n",
       "      <td>vamidothion</td>\n",
       "      <td>1.144</td>\n",
       "      <td>-1.446</td>\n",
       "      <td>CNC(=O)C(C)SCCSP(=O)(OC)(OC)</td>\n",
       "    </tr>\n",
       "    <tr>\n",
       "      <th>1140</th>\n",
       "      <td>Vinclozolin</td>\n",
       "      <td>-4.925</td>\n",
       "      <td>-4.377</td>\n",
       "      <td>CC1(OC(=O)N(C1=O)c2cc(Cl)cc(Cl)c2)C=C</td>\n",
       "    </tr>\n",
       "    <tr>\n",
       "      <th>1141</th>\n",
       "      <td>Warfarin</td>\n",
       "      <td>-3.893</td>\n",
       "      <td>-3.913</td>\n",
       "      <td>CC(=O)CC(c1ccccc1)c3c(O)c2ccccc2oc3=O</td>\n",
       "    </tr>\n",
       "    <tr>\n",
       "      <th>1142</th>\n",
       "      <td>Xipamide</td>\n",
       "      <td>-3.790</td>\n",
       "      <td>-3.642</td>\n",
       "      <td>Cc1cccc(C)c1NC(=O)c2cc(c(Cl)cc2O)S(N)(=O)=O</td>\n",
       "    </tr>\n",
       "    <tr>\n",
       "      <th>1143</th>\n",
       "      <td>XMC</td>\n",
       "      <td>-2.581</td>\n",
       "      <td>-2.688</td>\n",
       "      <td>CNC(=O)Oc1cc(C)cc(C)c1</td>\n",
       "    </tr>\n",
       "  </tbody>\n",
       "</table>\n",
       "<p>1144 rows × 4 columns</p>\n",
       "</div>"
      ],
      "text/plain": [
       "                         Compound ID  measured log(solubility:mol/L)  \\\n",
       "0          1,1,1,2-Tetrachloroethane                          -2.180   \n",
       "1              1,1,1-Trichloroethane                          -2.000   \n",
       "2          1,1,2,2-Tetrachloroethane                          -1.740   \n",
       "3              1,1,2-Trichloroethane                          -1.480   \n",
       "4     1,1,2-Trichlorotrifluoroethane                          -3.040   \n",
       "...                              ...                             ...   \n",
       "1139                     vamidothion                           1.144   \n",
       "1140                     Vinclozolin                          -4.925   \n",
       "1141                        Warfarin                          -3.893   \n",
       "1142                        Xipamide                          -3.790   \n",
       "1143                             XMC                          -2.581   \n",
       "\n",
       "      ESOL predicted log(solubility:mol/L)  \\\n",
       "0                                   -2.794   \n",
       "1                                   -2.232   \n",
       "2                                   -2.549   \n",
       "3                                   -1.961   \n",
       "4                                   -3.077   \n",
       "...                                    ...   \n",
       "1139                                -1.446   \n",
       "1140                                -4.377   \n",
       "1141                                -3.913   \n",
       "1142                                -3.642   \n",
       "1143                                -2.688   \n",
       "\n",
       "                                           SMILES  \n",
       "0                                  ClCC(Cl)(Cl)Cl  \n",
       "1                                    CC(Cl)(Cl)Cl  \n",
       "2                                  ClC(Cl)C(Cl)Cl  \n",
       "3                                      ClCC(Cl)Cl  \n",
       "4                             FC(F)(Cl)C(F)(Cl)Cl  \n",
       "...                                           ...  \n",
       "1139                 CNC(=O)C(C)SCCSP(=O)(OC)(OC)  \n",
       "1140        CC1(OC(=O)N(C1=O)c2cc(Cl)cc(Cl)c2)C=C  \n",
       "1141       CC(=O)CC(c1ccccc1)c3c(O)c2ccccc2oc3=O   \n",
       "1142  Cc1cccc(C)c1NC(=O)c2cc(c(Cl)cc2O)S(N)(=O)=O  \n",
       "1143                       CNC(=O)Oc1cc(C)cc(C)c1  \n",
       "\n",
       "[1144 rows x 4 columns]"
      ]
     },
     "execution_count": 9,
     "metadata": {},
     "output_type": "execute_result"
    }
   ],
   "source": [
    "data = pd.read_csv('delaney.csv')\n",
    "data"
   ]
  },
  {
   "cell_type": "code",
   "execution_count": 10,
   "id": "35385c9a-85a6-4501-8bbb-8a547614b7f8",
   "metadata": {},
   "outputs": [],
   "source": [
    "#SMILES=Simplified Molecular Input Line Entry System (chemical structure notation)\n",
    "#ESOL=Estimated Solubility"
   ]
  },
  {
   "cell_type": "code",
   "execution_count": 11,
   "id": "20bcab8f-62a1-4934-a67f-6023bfcc2541",
   "metadata": {},
   "outputs": [
    {
     "data": {
      "text/plain": [
       "0                                    ClCC(Cl)(Cl)Cl\n",
       "1                                      CC(Cl)(Cl)Cl\n",
       "2                                    ClC(Cl)C(Cl)Cl\n",
       "3                                        ClCC(Cl)Cl\n",
       "4                               FC(F)(Cl)C(F)(Cl)Cl\n",
       "                           ...                     \n",
       "1139                   CNC(=O)C(C)SCCSP(=O)(OC)(OC)\n",
       "1140          CC1(OC(=O)N(C1=O)c2cc(Cl)cc(Cl)c2)C=C\n",
       "1141         CC(=O)CC(c1ccccc1)c3c(O)c2ccccc2oc3=O \n",
       "1142    Cc1cccc(C)c1NC(=O)c2cc(c(Cl)cc2O)S(N)(=O)=O\n",
       "1143                         CNC(=O)Oc1cc(C)cc(C)c1\n",
       "Name: SMILES, Length: 1144, dtype: object"
      ]
     },
     "execution_count": 11,
     "metadata": {},
     "output_type": "execute_result"
    }
   ],
   "source": [
    "data.SMILES"
   ]
  },
  {
   "cell_type": "code",
   "execution_count": 12,
   "id": "71ecf875-70cc-46f0-a076-d902f2e449ce",
   "metadata": {},
   "outputs": [
    {
     "data": {
      "text/plain": [
       "'ClCC(Cl)(Cl)Cl'"
      ]
     },
     "execution_count": 12,
     "metadata": {},
     "output_type": "execute_result"
    }
   ],
   "source": [
    "data.SMILES[0]"
   ]
  },
  {
   "cell_type": "markdown",
   "id": "661fdf41-0145-4454-9483-c1f1c9c25a85",
   "metadata": {},
   "source": [
    "#### Convert SMILES compounds to rdkit Objects"
   ]
  },
  {
   "cell_type": "code",
   "execution_count": 13,
   "id": "179830fa-495f-4988-8dbe-bfc928d515c0",
   "metadata": {},
   "outputs": [],
   "source": [
    "from rdkit import Chem"
   ]
  },
  {
   "cell_type": "code",
   "execution_count": 15,
   "id": "5c43332f-95e6-4a3c-801f-b863ab04f8de",
   "metadata": {},
   "outputs": [
    {
     "data": {
      "image/png": "[encoded data removed]",
      "text/plain": [
       "<rdkit.Chem.rdchem.Mol at 0x127dba680>"
      ]
     },
     "execution_count": 15,
     "metadata": {},
     "output_type": "execute_result"
    }
   ],
   "source": [
    "m=Chem.MolFromSmiles(data.SMILES[0])\n",
    "m"
   ]
  },
  {
   "cell_type": "code",
   "execution_count": 16,
   "id": "f6df0ed5-c7eb-4821-903c-974bf13fa520",
   "metadata": {},
   "outputs": [
    {
     "data": {
      "text/plain": [
       "6"
      ]
     },
     "execution_count": 16,
     "metadata": {},
     "output_type": "execute_result"
    }
   ],
   "source": [
    "m.GetNumAtoms()"
   ]
  },
  {
   "cell_type": "code",
   "execution_count": 17,
   "id": "b118ec4b-3e92-4015-a1c9-bf047dc8f5e4",
   "metadata": {},
   "outputs": [
    {
     "name": "stdout",
     "output_type": "stream",
     "text": [
      "There are 1144 compounds in the dataset.\n"
     ]
    },
    {
     "data": {
      "text/plain": [
       "[<rdkit.Chem.rdchem.Mol at 0x111b60160>,\n",
       " <rdkit.Chem.rdchem.Mol at 0x127dba500>,\n",
       " <rdkit.Chem.rdchem.Mol at 0x127dba9e0>,\n",
       " <rdkit.Chem.rdchem.Mol at 0x127dba920>,\n",
       " <rdkit.Chem.rdchem.Mol at 0x127dbac80>]"
      ]
     },
     "execution_count": 17,
     "metadata": {},
     "output_type": "execute_result"
    }
   ],
   "source": [
    "#create list of rdkit objects\n",
    "m_list= [Chem.MolFromSmiles(compound) for compound in data.SMILES]\n",
    "print(f'There are {len(m_list)} compounds in the dataset.')\n",
    "m_list[:5]"
   ]
  },
  {
   "cell_type": "markdown",
   "id": "7aa2d00c-8e65-415e-85ca-f114b24979e5",
   "metadata": {},
   "source": [
    "#### Calculate molecular properties/descriptors (X variables)\n",
    "To predict LogS (log of the aqueous solubility, Y variable), the study from Delaney denotes the 4 most significant parameters to be calculated:\n",
    "\n",
    "1. LogP (Octanol-water partition coefficient)\n",
    "2. MW (Molecular weight)\n",
    "3. RB (Number of rotatable bonds)\n",
    "4. AP (Aromatic proportion = number of aromatic atoms / total number of heavy atoms)\n",
    "\n",
    "1-3 can be computed directly by rdkit, but 4 will be computed manually\n"
   ]
  },
  {
   "cell_type": "code",
   "execution_count": 18,
   "id": "589d0421-beb3-4ca0-b604-8ed0900c2ceb",
   "metadata": {},
   "outputs": [],
   "source": [
    "import numpy as np\n",
    "from rdkit.Chem import Descriptors"
   ]
  },
  {
   "cell_type": "code",
   "execution_count": 19,
   "id": "cc7cc1d2-9b22-4bac-a5f5-16ed07da2fe8",
   "metadata": {},
   "outputs": [],
   "source": [
    "#Define function to calculate properties/descriptors 1-3:\n",
    "\n",
    "def calc_properties(m_list):\n",
    "    properties={}\n",
    "    \n",
    "    #1. Calculate LogP\n",
    "    properties['logP'] = [Descriptors.MolLogP(m) for m in m_list]\n",
    "    \n",
    "    #2. Calculate MW\n",
    "    properties['MolWt'] = [Descriptors.MolWt(m) for m in m_list]\n",
    "    \n",
    "    #3. Calculate # rotatable bonds\n",
    "    properties['NumRotatableBonds'] = [Descriptors.NumRotatableBonds(m) for m in m_list]\n",
    "    \n",
    "    #4. Calculate aromatic proportion\n",
    "    \n",
    "    #determine number of aromatic atoms in each compound\n",
    "    n_aromatic_atoms=[]\n",
    "    for i in range(len(m_list)):\n",
    "        is_aromatic= [m_list[i].GetAtomWithIdx(j).GetIsAromatic() for j in range(m_list[i].GetNumAtoms())]\n",
    "\n",
    "        aromatic_atoms=0\n",
    "        for boolean in is_aromatic:\n",
    "            if boolean==True:\n",
    "                aromatic_atoms+=1 \n",
    "        n_aromatic_atoms.append(aromatic_atoms)\n",
    "\n",
    "\n",
    "    #determine number of heavy atoms in each compound\n",
    "    n_heavy_atoms = [Descriptors.HeavyAtomCount(m) for m in m_list]\n",
    "\n",
    "    #determine aromatic proportion (#aromatic atoms/#heavy atoms)\n",
    "    properties['AromaticProportion'] = [aromatic/heavy for aromatic,heavy in zip(n_aromatic_atoms, n_heavy_atoms)]\n",
    "    \n",
    "    return properties\n",
    "\n",
    "X_properties=calc_properties(m_list)\n"
   ]
  },
  {
   "cell_type": "markdown",
   "id": "4645a0da-6125-4dae-abd5-efac52e80d51",
   "metadata": {},
   "source": [
    "### Create X matrix dataframe"
   ]
  },
  {
   "cell_type": "code",
   "execution_count": 20,
   "id": "e34379e5-3cb9-4d3c-a14c-1cef5fa0ae9f",
   "metadata": {},
   "outputs": [
    {
     "data": {
      "text/html": [
       "<div>\n",
       "<style scoped>\n",
       "    .dataframe tbody tr th:only-of-type {\n",
       "        vertical-align: middle;\n",
       "    }\n",
       "\n",
       "    .dataframe tbody tr th {\n",
       "        vertical-align: top;\n",
       "    }\n",
       "\n",
       "    .dataframe thead th {\n",
       "        text-align: right;\n",
       "    }\n",
       "</style>\n",
       "<table border=\"1\" class=\"dataframe\">\n",
       "  <thead>\n",
       "    <tr style=\"text-align: right;\">\n",
       "      <th></th>\n",
       "      <th>logP</th>\n",
       "      <th>MolWt</th>\n",
       "      <th>NumRotatableBonds</th>\n",
       "      <th>AromaticProportion</th>\n",
       "    </tr>\n",
       "  </thead>\n",
       "  <tbody>\n",
       "    <tr>\n",
       "      <th>0</th>\n",
       "      <td>2.59540</td>\n",
       "      <td>167.850</td>\n",
       "      <td>0</td>\n",
       "      <td>0.000000</td>\n",
       "    </tr>\n",
       "    <tr>\n",
       "      <th>1</th>\n",
       "      <td>2.37650</td>\n",
       "      <td>133.405</td>\n",
       "      <td>0</td>\n",
       "      <td>0.000000</td>\n",
       "    </tr>\n",
       "    <tr>\n",
       "      <th>2</th>\n",
       "      <td>2.59380</td>\n",
       "      <td>167.850</td>\n",
       "      <td>1</td>\n",
       "      <td>0.000000</td>\n",
       "    </tr>\n",
       "    <tr>\n",
       "      <th>3</th>\n",
       "      <td>2.02890</td>\n",
       "      <td>133.405</td>\n",
       "      <td>1</td>\n",
       "      <td>0.000000</td>\n",
       "    </tr>\n",
       "    <tr>\n",
       "      <th>4</th>\n",
       "      <td>2.91890</td>\n",
       "      <td>187.375</td>\n",
       "      <td>1</td>\n",
       "      <td>0.000000</td>\n",
       "    </tr>\n",
       "    <tr>\n",
       "      <th>...</th>\n",
       "      <td>...</td>\n",
       "      <td>...</td>\n",
       "      <td>...</td>\n",
       "      <td>...</td>\n",
       "    </tr>\n",
       "    <tr>\n",
       "      <th>1139</th>\n",
       "      <td>1.98820</td>\n",
       "      <td>287.343</td>\n",
       "      <td>8</td>\n",
       "      <td>0.000000</td>\n",
       "    </tr>\n",
       "    <tr>\n",
       "      <th>1140</th>\n",
       "      <td>3.42130</td>\n",
       "      <td>286.114</td>\n",
       "      <td>2</td>\n",
       "      <td>0.333333</td>\n",
       "    </tr>\n",
       "    <tr>\n",
       "      <th>1141</th>\n",
       "      <td>3.60960</td>\n",
       "      <td>308.333</td>\n",
       "      <td>4</td>\n",
       "      <td>0.695652</td>\n",
       "    </tr>\n",
       "    <tr>\n",
       "      <th>1142</th>\n",
       "      <td>2.56214</td>\n",
       "      <td>354.815</td>\n",
       "      <td>3</td>\n",
       "      <td>0.521739</td>\n",
       "    </tr>\n",
       "    <tr>\n",
       "      <th>1143</th>\n",
       "      <td>2.02164</td>\n",
       "      <td>179.219</td>\n",
       "      <td>1</td>\n",
       "      <td>0.461538</td>\n",
       "    </tr>\n",
       "  </tbody>\n",
       "</table>\n",
       "<p>1144 rows × 4 columns</p>\n",
       "</div>"
      ],
      "text/plain": [
       "         logP    MolWt  NumRotatableBonds  AromaticProportion\n",
       "0     2.59540  167.850                  0            0.000000\n",
       "1     2.37650  133.405                  0            0.000000\n",
       "2     2.59380  167.850                  1            0.000000\n",
       "3     2.02890  133.405                  1            0.000000\n",
       "4     2.91890  187.375                  1            0.000000\n",
       "...       ...      ...                ...                 ...\n",
       "1139  1.98820  287.343                  8            0.000000\n",
       "1140  3.42130  286.114                  2            0.333333\n",
       "1141  3.60960  308.333                  4            0.695652\n",
       "1142  2.56214  354.815                  3            0.521739\n",
       "1143  2.02164  179.219                  1            0.461538\n",
       "\n",
       "[1144 rows x 4 columns]"
      ]
     },
     "execution_count": 20,
     "metadata": {},
     "output_type": "execute_result"
    }
   ],
   "source": [
    "X_df= pd.DataFrame(X_properties)\n",
    "X_df"
   ]
  },
  {
   "cell_type": "markdown",
   "id": "99aa7536-0023-4c2d-a67d-0e2558969f50",
   "metadata": {},
   "source": [
    "### Create Y matrix dataframe\n",
    "Y variable will be the experimental solubility (logS) values from the dataset. "
   ]
  },
  {
   "cell_type": "code",
   "execution_count": 21,
   "id": "2fc0cdfe-edf1-4de8-884b-42bc91f9409d",
   "metadata": {},
   "outputs": [
    {
     "data": {
      "text/html": [
       "<div>\n",
       "<style scoped>\n",
       "    .dataframe tbody tr th:only-of-type {\n",
       "        vertical-align: middle;\n",
       "    }\n",
       "\n",
       "    .dataframe tbody tr th {\n",
       "        vertical-align: top;\n",
       "    }\n",
       "\n",
       "    .dataframe thead th {\n",
       "        text-align: right;\n",
       "    }\n",
       "</style>\n",
       "<table border=\"1\" class=\"dataframe\">\n",
       "  <thead>\n",
       "    <tr style=\"text-align: right;\">\n",
       "      <th></th>\n",
       "      <th>Compound ID</th>\n",
       "      <th>measured log(solubility:mol/L)</th>\n",
       "      <th>ESOL predicted log(solubility:mol/L)</th>\n",
       "      <th>SMILES</th>\n",
       "    </tr>\n",
       "  </thead>\n",
       "  <tbody>\n",
       "    <tr>\n",
       "      <th>0</th>\n",
       "      <td>1,1,1,2-Tetrachloroethane</td>\n",
       "      <td>-2.18</td>\n",
       "      <td>-2.794</td>\n",
       "      <td>ClCC(Cl)(Cl)Cl</td>\n",
       "    </tr>\n",
       "    <tr>\n",
       "      <th>1</th>\n",
       "      <td>1,1,1-Trichloroethane</td>\n",
       "      <td>-2.00</td>\n",
       "      <td>-2.232</td>\n",
       "      <td>CC(Cl)(Cl)Cl</td>\n",
       "    </tr>\n",
       "    <tr>\n",
       "      <th>2</th>\n",
       "      <td>1,1,2,2-Tetrachloroethane</td>\n",
       "      <td>-1.74</td>\n",
       "      <td>-2.549</td>\n",
       "      <td>ClC(Cl)C(Cl)Cl</td>\n",
       "    </tr>\n",
       "    <tr>\n",
       "      <th>3</th>\n",
       "      <td>1,1,2-Trichloroethane</td>\n",
       "      <td>-1.48</td>\n",
       "      <td>-1.961</td>\n",
       "      <td>ClCC(Cl)Cl</td>\n",
       "    </tr>\n",
       "    <tr>\n",
       "      <th>4</th>\n",
       "      <td>1,1,2-Trichlorotrifluoroethane</td>\n",
       "      <td>-3.04</td>\n",
       "      <td>-3.077</td>\n",
       "      <td>FC(F)(Cl)C(F)(Cl)Cl</td>\n",
       "    </tr>\n",
       "  </tbody>\n",
       "</table>\n",
       "</div>"
      ],
      "text/plain": [
       "                      Compound ID  measured log(solubility:mol/L)  \\\n",
       "0       1,1,1,2-Tetrachloroethane                           -2.18   \n",
       "1           1,1,1-Trichloroethane                           -2.00   \n",
       "2       1,1,2,2-Tetrachloroethane                           -1.74   \n",
       "3           1,1,2-Trichloroethane                           -1.48   \n",
       "4  1,1,2-Trichlorotrifluoroethane                           -3.04   \n",
       "\n",
       "   ESOL predicted log(solubility:mol/L)               SMILES  \n",
       "0                                -2.794       ClCC(Cl)(Cl)Cl  \n",
       "1                                -2.232         CC(Cl)(Cl)Cl  \n",
       "2                                -2.549       ClC(Cl)C(Cl)Cl  \n",
       "3                                -1.961           ClCC(Cl)Cl  \n",
       "4                                -3.077  FC(F)(Cl)C(F)(Cl)Cl  "
      ]
     },
     "execution_count": 21,
     "metadata": {},
     "output_type": "execute_result"
    }
   ],
   "source": [
    "data.head()"
   ]
  },
  {
   "cell_type": "code",
   "execution_count": 22,
   "id": "a6d8f43c-5e13-404f-8fe2-10c18a6e4344",
   "metadata": {},
   "outputs": [
    {
     "data": {
      "text/plain": [
       "0      -2.180\n",
       "1      -2.000\n",
       "2      -1.740\n",
       "3      -1.480\n",
       "4      -3.040\n",
       "        ...  \n",
       "1139    1.144\n",
       "1140   -4.925\n",
       "1141   -3.893\n",
       "1142   -3.790\n",
       "1143   -2.581\n",
       "Name: measured log(solubility:mol/L), Length: 1144, dtype: float64"
      ]
     },
     "execution_count": 22,
     "metadata": {},
     "output_type": "execute_result"
    }
   ],
   "source": [
    "# Set Y matrix to column 2 (index 1) of dataset dataframe\n",
    "# select all rows and first column\n",
    "Y_df = data.iloc[:,1]\n",
    "Y_df"
   ]
  },
  {
   "cell_type": "markdown",
   "id": "2195db09-fa1b-41da-b062-f3be42d32165",
   "metadata": {},
   "source": [
    "### Split the data\n",
    "Split the dataset 80/20 for training set/testing set."
   ]
  },
  {
   "cell_type": "code",
   "execution_count": 23,
   "id": "4ea87c65-a947-4646-aa34-d3bd8a987fcc",
   "metadata": {},
   "outputs": [],
   "source": [
    "#import scikitlearn dependencies\n",
    "\n",
    "from sklearn.model_selection import train_test_split"
   ]
  },
  {
   "cell_type": "code",
   "execution_count": 24,
   "id": "3180e9bf-1495-4ec0-92bf-af75bcbbcb4b",
   "metadata": {},
   "outputs": [
    {
     "name": "stdout",
     "output_type": "stream",
     "text": [
      "(1144, 4)\n",
      "(915, 4)\n",
      "(229, 4)\n"
     ]
    }
   ],
   "source": [
    "#split the X and Y data\n",
    "x_train,x_test,y_train,y_test=train_test_split(X_df,Y_df,test_size=0.2)\n",
    "\n",
    "#compare shapes of training sets\n",
    "print(X_df.shape)\n",
    "print(x_train.shape)\n",
    "print(x_test.shape)"
   ]
  },
  {
   "cell_type": "markdown",
   "id": "351b7258-3983-4e3c-bb4c-dac6b1a6df13",
   "metadata": {},
   "source": [
    "### Linear Regression"
   ]
  },
  {
   "cell_type": "code",
   "execution_count": 25,
   "id": "a738ad77-48b3-4016-8f4b-a5836423930b",
   "metadata": {},
   "outputs": [],
   "source": [
    "#import scikitlearn dependencies\n",
    "from sklearn import linear_model\n",
    "from sklearn.metrics import mean_squared_error, r2_score"
   ]
  },
  {
   "cell_type": "code",
   "execution_count": 26,
   "id": "c1479164-ef60-4f53-b86b-8c4e55c4a9c1",
   "metadata": {},
   "outputs": [],
   "source": [
    "# Create linear regression object\n",
    "regr = linear_model.LinearRegression()\n",
    "\n",
    "# train the model using training sets\n",
    "regr= regr.fit(x_train, y_train)\n"
   ]
  },
  {
   "cell_type": "code",
   "execution_count": 37,
   "id": "c24e7ca0-fb7f-45b7-800d-21dbfcc84b28",
   "metadata": {},
   "outputs": [
    {
     "name": "stdout",
     "output_type": "stream",
     "text": [
      "Coefficients: [-0.73256444 -0.00677302  0.01057781 -0.36487285]\n",
      "Intercept: 0.2257988125365178\n",
      "Mean squared error (MSE): 0.95\n",
      "Coefficient of determination (R^2): 0.80\n"
     ]
    }
   ],
   "source": [
    "#Make predictions using the test data\n",
    "y_pred_test = regr.predict(x_test)\n",
    "\n",
    "#The learned coefficients represent the weight values of each X variable (slope)\n",
    "print('Coefficients:', regr.coef_)\n",
    "print('Intercept:', regr.intercept_)\n",
    "print('Mean squared error (MSE): %.2f'\n",
    "      % mean_squared_error(y_test, y_pred_test))\n",
    "print('Coefficient of determination (R^2): %.2f'\n",
    "      % r2_score(y_test, y_pred_test))\n"
   ]
  },
  {
   "cell_type": "markdown",
   "id": "6471e281-ffcb-4e65-9f49-0652f44df8ed",
   "metadata": {},
   "source": [
    "### Linear Regression Equation"
   ]
  },
  {
   "cell_type": "code",
   "execution_count": 28,
   "id": "3df23777-bc4e-444a-9f9c-6cc4e6a920e5",
   "metadata": {},
   "outputs": [
    {
     "name": "stdout",
     "output_type": "stream",
     "text": [
      "LogS = 0.2258 -0.7326LogP -0.0068MW 0.0106RB -0.3649AP\n"
     ]
    }
   ],
   "source": [
    "print(f'LogS = {regr.intercept_:.4f} {regr.coef_[0]:.4f}LogP {regr.coef_[1]:.4f}MW {regr.coef_[2]:.4f}RB {regr.coef_[3]:.4f}AP')"
   ]
  },
  {
   "cell_type": "markdown",
   "id": "cc5c31ea-43a0-4ec8-be01-f939c023daec",
   "metadata": {},
   "source": [
    "### Comparing Experimental vs. Predicted Solubilities/LogS"
   ]
  },
  {
   "cell_type": "code",
   "execution_count": 31,
   "id": "58a57d69-6672-4ea0-81a3-68eb6967d1ce",
   "metadata": {},
   "outputs": [],
   "source": [
    "#import matplotlib\n",
    "import matplotlib.pyplot as plt"
   ]
  },
  {
   "cell_type": "code",
   "execution_count": 40,
   "id": "55a06b26-8bb1-4546-badf-e43a6518a154",
   "metadata": {},
   "outputs": [
    {
     "data": {
      "text/html": [
       "<div>\n",
       "<style scoped>\n",
       "    .dataframe tbody tr th:only-of-type {\n",
       "        vertical-align: middle;\n",
       "    }\n",
       "\n",
       "    .dataframe tbody tr th {\n",
       "        vertical-align: top;\n",
       "    }\n",
       "\n",
       "    .dataframe thead th {\n",
       "        text-align: right;\n",
       "    }\n",
       "</style>\n",
       "<table border=\"1\" class=\"dataframe\">\n",
       "  <thead>\n",
       "    <tr style=\"text-align: right;\">\n",
       "      <th></th>\n",
       "      <th>Experimental LogS</th>\n",
       "      <th>Predicted LogS</th>\n",
       "    </tr>\n",
       "  </thead>\n",
       "  <tbody>\n",
       "    <tr>\n",
       "      <th>351</th>\n",
       "      <td>-0.910</td>\n",
       "      <td>-1.479773</td>\n",
       "    </tr>\n",
       "    <tr>\n",
       "      <th>725</th>\n",
       "      <td>-4.430</td>\n",
       "      <td>-5.276938</td>\n",
       "    </tr>\n",
       "    <tr>\n",
       "      <th>1051</th>\n",
       "      <td>-3.090</td>\n",
       "      <td>-3.214949</td>\n",
       "    </tr>\n",
       "    <tr>\n",
       "      <th>934</th>\n",
       "      <td>-2.250</td>\n",
       "      <td>-1.888091</td>\n",
       "    </tr>\n",
       "    <tr>\n",
       "      <th>714</th>\n",
       "      <td>-3.583</td>\n",
       "      <td>-0.531086</td>\n",
       "    </tr>\n",
       "    <tr>\n",
       "      <th>...</th>\n",
       "      <td>...</td>\n",
       "      <td>...</td>\n",
       "    </tr>\n",
       "    <tr>\n",
       "      <th>438</th>\n",
       "      <td>-4.710</td>\n",
       "      <td>-5.602844</td>\n",
       "    </tr>\n",
       "    <tr>\n",
       "      <th>1088</th>\n",
       "      <td>0.940</td>\n",
       "      <td>-0.729179</td>\n",
       "    </tr>\n",
       "    <tr>\n",
       "      <th>601</th>\n",
       "      <td>-0.850</td>\n",
       "      <td>-2.628566</td>\n",
       "    </tr>\n",
       "    <tr>\n",
       "      <th>422</th>\n",
       "      <td>-8.230</td>\n",
       "      <td>-5.979972</td>\n",
       "    </tr>\n",
       "    <tr>\n",
       "      <th>707</th>\n",
       "      <td>-4.571</td>\n",
       "      <td>-4.761878</td>\n",
       "    </tr>\n",
       "  </tbody>\n",
       "</table>\n",
       "<p>229 rows × 2 columns</p>\n",
       "</div>"
      ],
      "text/plain": [
       "      Experimental LogS  Predicted LogS\n",
       "351              -0.910       -1.479773\n",
       "725              -4.430       -5.276938\n",
       "1051             -3.090       -3.214949\n",
       "934              -2.250       -1.888091\n",
       "714              -3.583       -0.531086\n",
       "...                 ...             ...\n",
       "438              -4.710       -5.602844\n",
       "1088              0.940       -0.729179\n",
       "601              -0.850       -2.628566\n",
       "422              -8.230       -5.979972\n",
       "707              -4.571       -4.761878\n",
       "\n",
       "[229 rows x 2 columns]"
      ]
     },
     "execution_count": 40,
     "metadata": {},
     "output_type": "execute_result"
    }
   ],
   "source": [
    "#compare experimental vs. predicted values\n",
    "compare_df=pd.DataFrame({'Experimental LogS': y_test, 'Predicted LogS': y_pred_test})\n",
    "compare_df"
   ]
  },
  {
   "cell_type": "code",
   "execution_count": 54,
   "id": "55bc8aca-806a-4912-a353-ec473301d0b3",
   "metadata": {},
   "outputs": [
    {
     "data": {
      "image/png": "[encoded data removed]",
      "text/plain": [
       "<Figure size 432x288 with 1 Axes>"
      ]
     },
     "metadata": {
      "needs_background": "light"
     },
     "output_type": "display_data"
    }
   ],
   "source": [
    "#Plot Experimental LogS vs Predicted LogS\n",
    "\n",
    "plt.scatter(x=y_test, y=y_pred_test, color=\"#7CAE00\", alpha=0.3)\n",
    "\n",
    "# Add trendline\n",
    "# https://stackoverflow.com/questions/26447191/how-to-add-trendline-in-python-matplotlib-dot-scatter-graphs\n",
    "z = np.polyfit(y_test, y_pred_test, 1)\n",
    "p = np.poly1d(z)\n",
    "plt.plot(y_test,p(y_test),\"#F8766D\")\n",
    "\n",
    "plt.ylabel('Predicted LogS')\n",
    "plt.xlabel('Experimental LogS');"
   ]
  }
 ],
 "metadata": {
  "kernelspec": {
   "display_name": "Python 3 (ipykernel)",
   "language": "python",
   "name": "python3"
  },
  "language_info": {
   "codemirror_mode": {
    "name": "ipython",
    "version": 3
   },
   "file_extension": ".py",
   "mimetype": "text/x-python",
   "name": "python",
   "nbconvert_exporter": "python",
   "pygments_lexer": "ipython3",
   "version": "3.10.2"
  }
 },
 "nbformat": 4,
 "nbformat_minor": 5
}
